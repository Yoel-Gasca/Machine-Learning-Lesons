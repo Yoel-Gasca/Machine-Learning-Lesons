{
 "cells": [
  {
   "cell_type": "markdown",
   "metadata": {},
   "source": [
    "# Traducción y análisis de sentimiento con aprendizaje automático\n",
    "\n",
    "La traducción es siempre un problema difícil compuesto por el hecho que existen miles de idiomas y cada uno puede tener distintas reglas gramaticales. Un enfoque es convertir las reglas gramaticales formales para un idioma, como el Inglés, a una estructura no dependiente del idioma, y luego traducirlo al convertirlo de nuevo a otro idioma. Este enfoque significa que deberías realizar los siguientes pasos:\n",
    "\n",
    "Identificacción. Identifica o etiqueta las palabras en el idioma de entrada en sustantivos, verbos, etc.\n",
    "Crea la traducción. Produce una traducción directa de cada palabra en el formato del idioma objetivo.\n",
    "Oración de ejemplo, Inglés a Irlandés\n",
    "En 'Inglés', la oración I feel happy es de 3 palabras en el orden:\n",
    "\n",
    "* **sujeto** (I)\n",
    "* **verbo** (feel)\n",
    "* **adjetivo** (happy)\n",
    "\n",
    "Sin embargo, en el idioma 'Irlandés', la misma oración tiene una estructura gramatical muy diferente - emociones como \"happy\" o \"sad\" se expresan como `being *upon* you`.\n",
    "\n",
    "La frase en Inglés `I feel happy` en Irlandés sería `Tá athas orm`. Una traducción literal sería `Happy is upon me`.\n",
    "\n",
    "Un hablante Irlandés al traducir al Inglés diría `I feel happy`, no `Happy is upon me`, porque el entiende el significado de la oración, aún si las palabras y la estructura de la oración son diferentes.\n",
    "\n",
    "El orden formal para la oración en Irlandés es:\n",
    "\n",
    "* **verbo** (Tá or is)\n",
    "* **adjetivo** (athas, or happy)\n",
    "* **sujeto** (orm, or upon me)"
   ]
  },
  {
   "cell_type": "markdown",
   "metadata": {},
   "source": [
    "## Traducción\n",
    "\n",
    "Un programa de traducción simple podría traducir sólo las palabras, ignorando la estructura de la oración.\n",
    "\n",
    "✅ Si has aprendido un segundo (o tercero o más) idioma como adulto, podrías haber comenzado pensando en tu idioma nativo, traduciendo un concepto palabra por palabra en tu cabeza al segundo idioma, y luego diciendo tu traducción. Esto es similar a lo que realizan los programas de traducción simple. ¡Es importante superar esta fase para lograr fluidez!\n",
    "\n",
    "La traducción simple lleva a malas (y algunas veces divertidas) traducciones: `I feel happy` se traduce literalmente a `Mise bhraitheann athas` en Irlandés. Lo cual significa (literalmente) `me feel happy` y no es una oración Irlandesa válida. Aún cuando el Inglés e Irlandés son idiomas hablados en dos islas vecinas muy cercanas, son idiomas muy diferentes con diferentes estructuras gramaticales.\n",
    "\n",
    "Hasta ahora, has aprendido acerca de los enfoques a las reglas formales para el procesamiento del lenguaje natural. Otro enfoque es ignorar el significado de las palabras, y en su lugar usar aprendizaje automático para detectar patrones. Esto puede funcionar en traducciones si tienes demasiado texto (un corpus) o textos (corpora) tanto en el idioma origen como el destino.\n",
    "\n",
    "Por ejemplo, considera el caso de Orgullo y Prejuicio, una novela Inglesa muy conocidad escrita por Jane Austen in 1813. Si consultas el libro en Inglés y una traducción humana del libro en Francés, podrías detectar frases en uno que están traducidas idiomáticamente al otro. Lo cual harás en un minuto.\n",
    "\n",
    "Por ejemplo, cuando una frase en Inglés como `I have no money` se traduce literalmente al Francés, se convertiría en `Je n'ai pas de monnaie`. \"Monnaie\" es un 'falso cognado' francés, ya que 'money' y 'monnaie' no son sinónimos. Una mejor traducción que la humana sería `Je n'ai pas d'argent`, porque transmite mejor el significado de no tener dinero (en lugar de 'loose change' lo cual es el significado de 'monnaie').\n",
    "\n",
    "Si un modelo de aprendizaje automático tiene suficientes traducciones humanas para construir un modelo sobre el cual basarse, puede mejorar la precisión de las traducciones al identificar patrones comunes en textos que han sido previamente traducidos por hablantes humanos expertos de ambos idiomas.\n"
   ]
  },
  {
   "cell_type": "markdown",
   "metadata": {},
   "source": [
    "### Ejercicio - traducción\n",
    "Puedes usar TextBlob para traducir oraciones. Prueba la famosa primer línea de Orgullo y Prejuicio:"
   ]
  },
  {
   "cell_type": "code",
   "execution_count": null,
   "metadata": {},
   "outputs": [],
   "source": [
    "from textblob import TextBlob\n",
    "\n",
    "# You should download the book text, clean it, and import it here\n",
    "with open(\"pride.txt\", encoding=\"utf8\") as f:\n",
    "    file_contents = f.read()"
   ]
  },
  {
   "cell_type": "code",
   "execution_count": null,
   "metadata": {},
   "outputs": [],
   "source": [
    "book_pride = TextBlob(file_contents)\n",
    "positive_sentiment_sentences = []\n",
    "negative_sentiment_sentences = []"
   ]
  },
  {
   "cell_type": "code",
   "execution_count": null,
   "metadata": {},
   "outputs": [],
   "source": [
    "print(\"The \" + str(len(positive_sentiment_sentences)) + \" most positive sentences:\")\n",
    "for sentence in positive_sentiment_sentences:\n",
    "    print(\"+ \" + str(sentence.replace(\"\\n\", \"\").replace(\"      \", \" \")))\n",
    "print(\"The \" + str(len(negative_sentiment_sentences)) + \" most negative sentences:\")\n",
    "for sentence in negative_sentiment_sentences:\n",
    "    print(\"- \" + str(sentence.replace(\"\\n\", \"\").replace()))\"   "
   ]
  }
 ],
 "metadata": {
  "kernelspec": {
   "display_name": "base",
   "language": "python",
   "name": "python3"
  },
  "language_info": {
   "codemirror_mode": {
    "name": "ipython",
    "version": 3
   },
   "file_extension": ".py",
   "mimetype": "text/x-python",
   "name": "python",
   "nbconvert_exporter": "python",
   "pygments_lexer": "ipython3",
   "version": "3.11.5"
  }
 },
 "nbformat": 4,
 "nbformat_minor": 2
}
