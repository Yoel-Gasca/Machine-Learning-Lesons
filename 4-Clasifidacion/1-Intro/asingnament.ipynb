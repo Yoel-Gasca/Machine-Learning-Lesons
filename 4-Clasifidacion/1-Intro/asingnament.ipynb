{
 "cells": [
  {
   "cell_type": "markdown",
   "metadata": {},
   "source": [
    "# Explore métodos de clasificación\n",
    "\n",
    "## Instrucciones\n",
    "\n",
    "En la [documentación de Scikit-learn](https://scikit-learn.org/stable/supervised_learning.html) encontrarás un gran lista de formas de clasificar los datos. Haz una pequeña búsqueda en estos documentos: tu meta es buscar los metódos de clasificación y hacer coincidir un conjunto de datos en este plan de estudios, una pregunta que puedes hacerle, y una técnica de clasificación. Crea una hoja de cálculo o tabla en un archivo .doc y explica cómo el conjunto de datos funcionaría con el algoritmo de clasificación.\n",
    "\n",
    "Uno de los modelos más comunes es el clasificador de Bosques Aleatorios (Random Forest Classifier). Aquí tienes un ejemplo básico de cómo podrías hacerlo utilizando la biblioteca scikit-learn:"
   ]
  },
  {
   "cell_type": "code",
   "execution_count": 1,
   "metadata": {},
   "outputs": [],
   "source": [
    "import pandas as pd\n",
    "from sklearn.ensemble import RandomForestClassifier\n",
    "from sklearn.model_selection import train_test_split\n",
    "from sklearn.preprocessing import LabelEncoder\n"
   ]
  },
  {
   "cell_type": "code",
   "execution_count": 2,
   "metadata": {},
   "outputs": [],
   "source": [
    "# Leer el archivo CSV\n",
    "df = pd.read_csv('../data/form.csv')"
   ]
  },
  {
   "cell_type": "code",
   "execution_count": 4,
   "metadata": {},
   "outputs": [],
   "source": [
    "# Convierte todos los valores de la columna 'birth_month' a minúsculas\n",
    "df['birth_month'] = df['birth_month'].str.lower()"
   ]
  },
  {
   "cell_type": "code",
   "execution_count": 6,
   "metadata": {},
   "outputs": [],
   "source": [
    "\n",
    "# Remplaza los valores abreviados de los meses con sus nombres completos\n",
    "month_mapping = {\n",
    "    'jan': 'january',\n",
    "    'sept': 'september',\n",
    "    'nov': 'november',\n",
    "    'dec': 'december'\n",
    "}\n",
    "df['birth_month'].replace(month_mapping, inplace=True)"
   ]
  },
  {
   "cell_type": "code",
   "execution_count": 7,
   "metadata": {},
   "outputs": [
    {
     "name": "stdout",
     "output_type": "stream",
     "text": [
      "  birth_month       state   pet\n",
      "0     january     Unknown  Cats\n",
      "1     january          CA  Cats\n",
      "2   september      Hawaii   Dog\n",
      "3     january          AK   Dog\n",
      "4        july          RI  Cats\n",
      "5   september  California  Cats\n",
      "6       april          CA   Dog\n",
      "7     january  California  Cats\n",
      "8    november          FL   Dog\n",
      "9    december     Florida  Cats\n"
     ]
    }
   ],
   "source": [
    "# Rellena los valores faltantes en la columna 'state' con un valor predeterminado, por ejemplo, 'Unknown'\n",
    "df['state'].fillna('Unknown', inplace=True)\n",
    "\n",
    "# Imprime el DataFrame resultante\n",
    "print(df)"
   ]
  },
  {
   "cell_type": "markdown",
   "metadata": {},
   "source": [
    "Estos pasos convierten todos los valores de la columna 'birth_month' a minúsculas y luego reemplazan los valores abreviados con sus nombres completos. Además, llenan los valores faltantes en la columna 'state' con 'Unknown'."
   ]
  },
  {
   "cell_type": "code",
   "execution_count": 8,
   "metadata": {},
   "outputs": [],
   "source": [
    "# Preprocesar los datos\n",
    "le = LabelEncoder()\n",
    "df['birth_month'] = df['birth_month'].str.lower().replace(month_mapping)\n",
    "df['state'] = le.fit_transform(df['state'])\n",
    "df['pet'] = le.fit_transform(df['pet'])"
   ]
  },
  {
   "cell_type": "code",
   "execution_count": 13,
   "metadata": {},
   "outputs": [],
   "source": [
    "# Dividir los datos en conjuntos de entrenamiento y prueba\n",
    "X = df[['birth_month', 'state']]\n",
    "y = df['pet']\n",
    "X_train, X_test, y_train, y_test = train_test_split(X, y, test_size=0.2, random_state=42)\n"
   ]
  },
  {
   "cell_type": "markdown",
   "metadata": {},
   "source": []
  },
  {
   "cell_type": "code",
   "execution_count": null,
   "metadata": {},
   "outputs": [],
   "source": [
    "# Crear y entrenar el modelo de Bosques Aleatorios\n",
    "clf = RandomForestClassifier(n_estimators=100, random_state=42)\n",
    "clf.fit(X_train, y_train)\n"
   ]
  },
  {
   "cell_type": "code",
   "execution_count": null,
   "metadata": {},
   "outputs": [],
   "source": [
    "# Hacer predicciones en el conjunto de prueba\n",
    "predictions = clf.predict(X_test)"
   ]
  },
  {
   "cell_type": "code",
   "execution_count": null,
   "metadata": {},
   "outputs": [],
   "source": [
    "# Hacer una pregunta con nuevos datos\n",
    "new_data = pd.DataFrame({'birth_month': ['july'], 'state': ['CA']})\n",
    "new_data['birth_month'] = new_data['birth_month'].str.lower().replace(month_mapping)\n",
    "new_data['state'] = le.transform(new_data['state'])\n",
    "prediction = clf.predict(new_data)\n",
    "\n",
    "# Imprimir la predicción\n",
    "print(f\"La predicción para la nueva entrada es: {le.inverse_transform(prediction)}\")"
   ]
  }
 ],
 "metadata": {
  "kernelspec": {
   "display_name": "Python 3",
   "language": "python",
   "name": "python3"
  },
  "language_info": {
   "codemirror_mode": {
    "name": "ipython",
    "version": 3
   },
   "file_extension": ".py",
   "mimetype": "text/x-python",
   "name": "python",
   "nbconvert_exporter": "python",
   "pygments_lexer": "ipython3",
   "version": "3.11.5"
  }
 },
 "nbformat": 4,
 "nbformat_minor": 2
}
