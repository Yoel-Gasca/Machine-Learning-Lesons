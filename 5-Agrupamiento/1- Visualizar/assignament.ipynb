{
 "cells": [
  {
   "cell_type": "markdown",
   "metadata": {},
   "source": [
    "# Otras visualizaciones\n",
    "\n",
    "En esta lección, se trabajo con algunas técnicas de visualización para comprender cómo graficar los datos en preparación para agruparlos. Los gráficos de dispersión son particularmente útiles para encontrar grupos de objetos. Investiga distintas formas y librerías para crear gráficos de dispersión y documenta tu trabajo en un notebook. Puedes usar los datos de esta lección, otras lecciones, o datos que tú mismo proporciones (por favor, dá crédito a su fuente en tu notebook). Grafica algunos datos usando gráficos de dispersión y explica lo que descubras.\n"
   ]
  },
  {
   "cell_type": "code",
   "execution_count": 2,
   "metadata": {},
   "outputs": [
    {
     "data": {
      "text/html": [
       "<div>\n",
       "<style scoped>\n",
       "    .dataframe tbody tr th:only-of-type {\n",
       "        vertical-align: middle;\n",
       "    }\n",
       "\n",
       "    .dataframe tbody tr th {\n",
       "        vertical-align: top;\n",
       "    }\n",
       "\n",
       "    .dataframe thead th {\n",
       "        text-align: right;\n",
       "    }\n",
       "</style>\n",
       "<table border=\"1\" class=\"dataframe\">\n",
       "  <thead>\n",
       "    <tr style=\"text-align: right;\">\n",
       "      <th></th>\n",
       "      <th>name</th>\n",
       "      <th>album</th>\n",
       "      <th>artist</th>\n",
       "      <th>artist_top_genre</th>\n",
       "      <th>release_date</th>\n",
       "      <th>length</th>\n",
       "      <th>popularity</th>\n",
       "      <th>danceability</th>\n",
       "      <th>acousticness</th>\n",
       "      <th>energy</th>\n",
       "      <th>instrumentalness</th>\n",
       "      <th>liveness</th>\n",
       "      <th>loudness</th>\n",
       "      <th>speechiness</th>\n",
       "      <th>tempo</th>\n",
       "      <th>time_signature</th>\n",
       "    </tr>\n",
       "  </thead>\n",
       "  <tbody>\n",
       "    <tr>\n",
       "      <th>0</th>\n",
       "      <td>Sparky</td>\n",
       "      <td>Mandy &amp; The Jungle</td>\n",
       "      <td>Cruel Santino</td>\n",
       "      <td>alternative r&amp;b</td>\n",
       "      <td>2019</td>\n",
       "      <td>144000</td>\n",
       "      <td>48</td>\n",
       "      <td>0.666</td>\n",
       "      <td>0.8510</td>\n",
       "      <td>0.420</td>\n",
       "      <td>0.534000</td>\n",
       "      <td>0.1100</td>\n",
       "      <td>-6.699</td>\n",
       "      <td>0.0829</td>\n",
       "      <td>133.015</td>\n",
       "      <td>5</td>\n",
       "    </tr>\n",
       "    <tr>\n",
       "      <th>1</th>\n",
       "      <td>shuga rush</td>\n",
       "      <td>EVERYTHING YOU HEARD IS TRUE</td>\n",
       "      <td>Odunsi (The Engine)</td>\n",
       "      <td>afropop</td>\n",
       "      <td>2020</td>\n",
       "      <td>89488</td>\n",
       "      <td>30</td>\n",
       "      <td>0.710</td>\n",
       "      <td>0.0822</td>\n",
       "      <td>0.683</td>\n",
       "      <td>0.000169</td>\n",
       "      <td>0.1010</td>\n",
       "      <td>-5.640</td>\n",
       "      <td>0.3600</td>\n",
       "      <td>129.993</td>\n",
       "      <td>3</td>\n",
       "    </tr>\n",
       "    <tr>\n",
       "      <th>2</th>\n",
       "      <td>LITT!</td>\n",
       "      <td>LITT!</td>\n",
       "      <td>AYLØ</td>\n",
       "      <td>indie r&amp;b</td>\n",
       "      <td>2018</td>\n",
       "      <td>207758</td>\n",
       "      <td>40</td>\n",
       "      <td>0.836</td>\n",
       "      <td>0.2720</td>\n",
       "      <td>0.564</td>\n",
       "      <td>0.000537</td>\n",
       "      <td>0.1100</td>\n",
       "      <td>-7.127</td>\n",
       "      <td>0.0424</td>\n",
       "      <td>130.005</td>\n",
       "      <td>4</td>\n",
       "    </tr>\n",
       "    <tr>\n",
       "      <th>3</th>\n",
       "      <td>Confident / Feeling Cool</td>\n",
       "      <td>Enjoy Your Life</td>\n",
       "      <td>Lady Donli</td>\n",
       "      <td>nigerian pop</td>\n",
       "      <td>2019</td>\n",
       "      <td>175135</td>\n",
       "      <td>14</td>\n",
       "      <td>0.894</td>\n",
       "      <td>0.7980</td>\n",
       "      <td>0.611</td>\n",
       "      <td>0.000187</td>\n",
       "      <td>0.0964</td>\n",
       "      <td>-4.961</td>\n",
       "      <td>0.1130</td>\n",
       "      <td>111.087</td>\n",
       "      <td>4</td>\n",
       "    </tr>\n",
       "    <tr>\n",
       "      <th>4</th>\n",
       "      <td>wanted you</td>\n",
       "      <td>rare.</td>\n",
       "      <td>Odunsi (The Engine)</td>\n",
       "      <td>afropop</td>\n",
       "      <td>2018</td>\n",
       "      <td>152049</td>\n",
       "      <td>25</td>\n",
       "      <td>0.702</td>\n",
       "      <td>0.1160</td>\n",
       "      <td>0.833</td>\n",
       "      <td>0.910000</td>\n",
       "      <td>0.3480</td>\n",
       "      <td>-6.044</td>\n",
       "      <td>0.0447</td>\n",
       "      <td>105.115</td>\n",
       "      <td>4</td>\n",
       "    </tr>\n",
       "  </tbody>\n",
       "</table>\n",
       "</div>"
      ],
      "text/plain": [
       "                       name                         album  \\\n",
       "0                    Sparky            Mandy & The Jungle   \n",
       "1                shuga rush  EVERYTHING YOU HEARD IS TRUE   \n",
       "2                     LITT!                         LITT!   \n",
       "3  Confident / Feeling Cool               Enjoy Your Life   \n",
       "4                wanted you                         rare.   \n",
       "\n",
       "                artist artist_top_genre  release_date  length  popularity  \\\n",
       "0        Cruel Santino  alternative r&b          2019  144000          48   \n",
       "1  Odunsi (The Engine)          afropop          2020   89488          30   \n",
       "2                 AYLØ        indie r&b          2018  207758          40   \n",
       "3           Lady Donli     nigerian pop          2019  175135          14   \n",
       "4  Odunsi (The Engine)          afropop          2018  152049          25   \n",
       "\n",
       "   danceability  acousticness  energy  instrumentalness  liveness  loudness  \\\n",
       "0         0.666        0.8510   0.420          0.534000    0.1100    -6.699   \n",
       "1         0.710        0.0822   0.683          0.000169    0.1010    -5.640   \n",
       "2         0.836        0.2720   0.564          0.000537    0.1100    -7.127   \n",
       "3         0.894        0.7980   0.611          0.000187    0.0964    -4.961   \n",
       "4         0.702        0.1160   0.833          0.910000    0.3480    -6.044   \n",
       "\n",
       "   speechiness    tempo  time_signature  \n",
       "0       0.0829  133.015               5  \n",
       "1       0.3600  129.993               3  \n",
       "2       0.0424  130.005               4  \n",
       "3       0.1130  111.087               4  \n",
       "4       0.0447  105.115               4  "
      ]
     },
     "execution_count": 2,
     "metadata": {},
     "output_type": "execute_result"
    }
   ],
   "source": [
    "import matplotlib.pyplot as plt\n",
    "import pandas as pd\n",
    "import seaborn as sns\n",
    "import plotly.express as px\n",
    "\n",
    "df = pd.read_csv(\"../data/nigerian-songs.csv\")\n",
    "df.head()"
   ]
  },
  {
   "cell_type": "markdown",
   "metadata": {},
   "source": [
    "Con los datos del conjunto de datos de esta leccion Seguiremos trabajando para hacer estos graficos de dispersion para encontrar distintos grupos en los gustos musicales entre la gente de Nigeria."
   ]
  },
  {
   "cell_type": "markdown",
   "metadata": {},
   "source": [
    "## Gráfico de dispersión con Matplotlib\n",
    "La función `scatter` de [Matplotlib](https://matplotlib.org/stable/) se utiliza para crear un gráfico de dispersión, que muestra la relación entre dos conjuntos de datos como puntos individuales."
   ]
  },
  {
   "cell_type": "code",
   "execution_count": 3,
   "metadata": {},
   "outputs": [
    {
     "data": {
      "image/png": "[encoded data removed]",
      "text/plain": [
       "<Figure size 640x480 with 1 Axes>"
      ]
     },
     "metadata": {},
     "output_type": "display_data"
    }
   ],
   "source": [
    "# Ejemplo de gráfico de dispersión entre \"popularity\" y \"danceability\"\n",
    "plt.scatter(df['popularity'], df['danceability'])\n",
    "plt.xlabel('Popularity')\n",
    "plt.ylabel('Danceability')\n",
    "plt.title('Scatter Plot: Popularity vs Danceability')\n",
    "plt.show()"
   ]
  },
  {
   "cell_type": "markdown",
   "metadata": {},
   "source": [
    "En el ejemplo, `plt.scatter()` crea un gráfico de dispersión con la popularidad de la música en el eje x y la capacidad de baile en el eje y. Luego, se añaden etiquetas de ejes y un título para mejorar la legibilidad del gráfico."
   ]
  },
  {
   "cell_type": "markdown",
   "metadata": {},
   "source": [
    "## Gráfico de dispersión con Seaborn\n",
    "Seaborn es una librería de visualización de datos en Python basada en Matplotlib. Proporciona una interfaz de alto nivel para dibujar gráficos estadísticos atractivos y informativos.\n",
    "\n",
    "La función `scatterplot` en [Seaborn](https://seaborn.pydata.org/) se utiliza para crear gráficos de dispersión similar al de Matplotlib, pero con algunas mejoras en estética y funcionalidad."
   ]
  },
  {
   "cell_type": "code",
   "execution_count": 4,
   "metadata": {},
   "outputs": [
    {
     "data": {
      "image/png": "[encoded data removed]",
      "text/plain": [
       "<Figure size 640x480 with 1 Axes>"
      ]
     },
     "metadata": {},
     "output_type": "display_data"
    }
   ],
   "source": [
    "# Ejemplo de gráfico de dispersión entre \"energy\" y \"loudness\"\n",
    "sns.scatterplot(data=df, x='energy', y='loudness')\n",
    "plt.xlabel('Energy')\n",
    "plt.ylabel('Loudness')\n",
    "plt.title('Scatter Plot: Energy vs Loudness')\n",
    "plt.show()"
   ]
  },
  {
   "cell_type": "markdown",
   "metadata": {},
   "source": [
    "Este gráfico de dispersión muestra la relación entre la energía y el volumen (loudness) de las canciones. Cada punto en el gráfico representa una canción, y su posición en los ejes x e y indica el nivel de energía de los dispocitivos y el volumen en el que la canción es mayormente reproducida respectivamente. "
   ]
  },
  {
   "cell_type": "markdown",
   "metadata": {},
   "source": [
    "## Gráfico de dispersión con Plotly\n",
    "Por ultimo vamos a utilizar la libreria Plotly la cual ofrace opciones de visualización interactiva en Python que permite crear gráficos interactivos y dinámicos en línea.\n",
    "\n",
    "La función `scatter` de Plotly Express se utiliza para crear un gráfico de dispersión similar a los de Matplotlib y Seaborn, pero con la capacidad adicional de ser interactivo y dinamico."
   ]
  },
  {
   "cell_type": "code",
   "execution_count": 5,
   "metadata": {},
   "outputs": [
    {
     "data": {
      "application/vnd.plotly.v1+json": {
       "config": {
        "plotlyServerURL": "https://plot.ly"
       },
       "data": [
        {
         "hovertemplate": "acousticness=%{x}<br>speechiness=%{y}<extra></extra>",
         "legendgroup": "",
         "marker": {
          "color": "#636efa",
          "symbol": "circle"
         },
         "mode": "markers",
         "name": "",
         "orientation": "v",
         "showlegend": false,
         "type": "scatter",
         "x": [
          0.851,
          0.0822,
          0.272,
          0.798,
          0.116,
          0.127,
          0.452,
          0.608,
          0.214,
          0.912,
          0.872,
          0.609,
          0.714,
          0.296,
          0.871,
          0.469,
          0.488,
          0.56,
          0.608,
          0.793,
          0.171,
          0.954,
          0.871,
          0.563,
          0.313,
          0.273,
          0.229,
          0.424,
          0.249,
          0.021,
          0.149,
          0.628,
          0.142,
          0.275,
          0.523,
          0.251,
          0.369,
          0.358,
          0.307,
          0.628,
          0.552,
          0.458,
          0.0642,
          0.0536,
          0.232,
          0.549,
          0.397,
          0.586,
          0.494,
          0.289,
          0.515,
          0.127,
          0.633,
          0.316,
          0.392,
          0.281,
          0.24,
          0.344,
          0.0269,
          0.0886,
          0.14,
          0.208,
          0.0718,
          0.776,
          0.0285,
          0.217,
          0.0965,
          0.379,
          0.515,
          0.302,
          0.313,
          0.416,
          0.0704,
          0.288,
          0.354,
          0.0438,
          0.353,
          0.0633,
          0.271,
          0.6,
          0.0501,
          0.259,
          0.129,
          0.313,
          0.0662,
          0.327,
          0.172,
          0.175,
          0.268,
          0.623,
          0.51,
          0.173,
          0.23,
          0.293,
          0.0115,
          0.158,
          0.351,
          0.149,
          0.304,
          0.00755,
          0.413,
          0.592,
          0.0859,
          0.126,
          0.0235,
          0.00437,
          0.0729,
          0.16,
          0.525,
          0.169,
          0.113,
          0.706,
          0.0861,
          0.528,
          0.0123,
          0.682,
          0.0743,
          0.00762,
          0.0439,
          0.608,
          0.324,
          0.554,
          0.17,
          0.493,
          0.134,
          0.657,
          0.273,
          0.0215,
          0.156,
          0.365,
          0.244,
          0.00957,
          0.013,
          0.633,
          0.626,
          0.00907,
          0.245,
          0.496,
          0.172,
          0.0584,
          0.205,
          0.687,
          0.505,
          0.203,
          0.14,
          0.25,
          0.0823,
          0.0352,
          0.344,
          0.435,
          0.0512,
          0.458,
          0.0501,
          0.45,
          0.381,
          0.428,
          0.22,
          0.0387,
          0.0304,
          0.0162,
          0.277,
          0.0384,
          0.138,
          0.0154,
          0.0753,
          0.00176,
          0.261,
          0.234,
          0.297,
          0.0896,
          0.248,
          0.332,
          0.0278,
          0.39,
          0.019,
          0.17,
          0.404,
          0.432,
          0.0214,
          0.188,
          0.136,
          0.066,
          0.335,
          0.0472,
          0.00176,
          0.622,
          0.665,
          0.25,
          0.148,
          0.496,
          0.483,
          0.561,
          0.3,
          0.54,
          0.0142,
          0.0512,
          0.145,
          0.532,
          0.453,
          0.258,
          0.217,
          0.0348,
          0.329,
          0.622,
          0.103,
          0.0767,
          0.0206,
          0.463,
          0.238,
          0.305,
          0.589,
          0.0814,
          0.0553,
          0.336,
          0.669,
          0.164,
          0.152,
          0.175,
          0.158,
          0.117,
          0.38,
          0.0855,
          0.011,
          0.76,
          0.162,
          0.611,
          0.00852,
          0.58,
          0.322,
          0.0234,
          0.613,
          0.356,
          0.0187,
          0.00929,
          0.221,
          0.452,
          0.824,
          0.211,
          0.102,
          0.522,
          0.0867,
          0.0794,
          0.615,
          0.263,
          0.0281,
          0.135,
          0.493,
          0.142,
          0.341,
          0.471,
          0.108,
          0.084,
          0.137,
          0.165,
          0.0611,
          0.252,
          0.0485,
          0.367,
          0.578,
          0.138,
          0.214,
          0.127,
          0.406,
          0.297,
          0.13,
          0.1,
          0.265,
          0.0943,
          0.31,
          0.176,
          0.162,
          0.0353,
          0.459,
          0.496,
          0.0348,
          0.447,
          0.113,
          0.0444,
          0.0741,
          0.114,
          0.261,
          0.0498,
          0.129,
          0.265,
          0.181,
          0.447,
          0.137,
          0.382,
          0.563,
          0.337,
          0.0301,
          0.253,
          0.0355,
          0.129,
          0.202,
          0.15,
          0.107,
          0.594,
          0.692,
          0.564,
          0.0899,
          0.0614,
          0.544,
          0.152,
          0.488,
          0.159,
          0.587,
          0.379,
          0.378,
          0.305,
          0.433,
          0.434,
          0.206,
          0.15,
          0.281,
          0.0884,
          0.424,
          0.187,
          0.228,
          0.282,
          0.704,
          0.199,
          0.0761,
          0.0539,
          0.223,
          0.187,
          0.54,
          0.483,
          0.187,
          0.431,
          0.711,
          0.344,
          0.273,
          0.512,
          0.628,
          0.473,
          0.208,
          0.156,
          0.441,
          0.068,
          0.0194,
          0.283,
          0.148,
          0.208,
          0.187,
          0.446,
          0.0222,
          0.762,
          0.0218,
          0.28,
          0.251,
          0.0737,
          0.119,
          0.391,
          0.392,
          0.115,
          0.346,
          0.493,
          0.281,
          0.114,
          0.22,
          0.358,
          0.237,
          0.036,
          0.32,
          0.199,
          0.0681,
          0.58,
          0.2,
          0.697,
          0.113,
          0.0763,
          0.275,
          0.146,
          0.193,
          0.0924,
          0.262,
          0.0516,
          0.229,
          0.239,
          0.145,
          0.0441,
          0.199,
          0.0285,
          0.317,
          0.565,
          0.416,
          0.0158,
          0.371,
          0.0523,
          0.378,
          0.123,
          0.48,
          0.73,
          0.324,
          0.251,
          0.115,
          0.184,
          0.407,
          0.42,
          0.169,
          0.537,
          0.0159,
          0.469,
          0.208,
          0.568,
          0.233,
          0.259,
          0.171,
          0.587,
          0.424,
          0.0803,
          0.185,
          0.328,
          0.12,
          0.0205,
          0.23,
          0.038,
          0.0723,
          0.0521,
          0.106,
          0.186,
          0.324,
          0.261,
          0.36,
          0.224,
          0.677,
          0.0929,
          0.0678,
          0.425,
          0.239,
          0.0787,
          0.0206,
          0.564,
          0.331,
          0.0679,
          0.222,
          0.308,
          0.0969,
          0.00401,
          0.0258,
          0.625,
          0.209,
          0.147,
          0.134,
          0.161,
          0.0729,
          0.176,
          0.106,
          0.565,
          0.0102,
          0.0684,
          0.14,
          0.851,
          0.434,
          0.00616,
          0.635,
          0.133,
          0.139,
          0.424,
          0.13,
          0.0201,
          0.4,
          0.107,
          0.186,
          0.0319,
          0.0179,
          0.0596,
          0.0712,
          0.0173,
          0.181,
          0.0155,
          0.0555,
          0.0216,
          0.324,
          0.234,
          0.506,
          0.449,
          0.0385,
          0.0615,
          0.295,
          0.062,
          0.116,
          0.193,
          0.319,
          0.144,
          0.0345,
          0.372,
          0.215,
          0.158,
          0.338,
          0.0558,
          0.146,
          0.37,
          0.018,
          0.194,
          0.253,
          0.0523,
          0.0652,
          0.000665,
          0.405,
          0.0908,
          0.00424,
          0.0895,
          0.0243,
          0.313,
          0.241,
          0.0112,
          0.247,
          0.0226,
          0.251,
          0.0785,
          0.398,
          0.343,
          0.0358,
          0.195,
          0.526,
          0.138,
          0.109,
          0.224,
          0.223,
          0.437,
          0.0366,
          0.0497,
          0.322,
          0.632,
          0.177,
          0.238,
          0.049,
          0.114
         ],
         "xaxis": "x",
         "y": [
          0.0829,
          0.36,
          0.0424,
          0.113,
          0.0447,
          0.197,
          0.199,
          0.0453,
          0.0441,
          0.036,
          0.0865,
          0.0421,
          0.338,
          0.143,
          0.0278,
          0.131,
          0.264,
          0.0793,
          0.0789,
          0.051,
          0.0921,
          0.0526,
          0.192,
          0.123,
          0.071,
          0.143,
          0.044,
          0.0412,
          0.0596,
          0.0315,
          0.107,
          0.0474,
          0.0558,
          0.115,
          0.169,
          0.0354,
          0.0635,
          0.0398,
          0.0346,
          0.125,
          0.106,
          0.0483,
          0.0304,
          0.0564,
          0.111,
          0.172,
          0.0612,
          0.151,
          0.104,
          0.169,
          0.0322,
          0.0554,
          0.151,
          0.325,
          0.071,
          0.0643,
          0.0952,
          0.0459,
          0.0376,
          0.0456,
          0.0405,
          0.176,
          0.11,
          0.0311,
          0.242,
          0.0585,
          0.216,
          0.0566,
          0.0924,
          0.0478,
          0.0812,
          0.0708,
          0.0803,
          0.0393,
          0.0902,
          0.0644,
          0.0773,
          0.0569,
          0.0477,
          0.0622,
          0.0445,
          0.0543,
          0.112,
          0.107,
          0.167,
          0.0743,
          0.113,
          0.0438,
          0.081,
          0.111,
          0.0693,
          0.0494,
          0.0745,
          0.145,
          0.171,
          0.158,
          0.342,
          0.0419,
          0.0415,
          0.0971,
          0.0555,
          0.343,
          0.2,
          0.0531,
          0.0723,
          0.0594,
          0.0637,
          0.0527,
          0.0421,
          0.068,
          0.191,
          0.0424,
          0.043,
          0.0551,
          0.117,
          0.144,
          0.0418,
          0.0338,
          0.0547,
          0.0921,
          0.0339,
          0.0686,
          0.106,
          0.242,
          0.246,
          0.0373,
          0.0675,
          0.0982,
          0.0839,
          0.197,
          0.125,
          0.059,
          0.113,
          0.149,
          0.324,
          0.107,
          0.0409,
          0.352,
          0.135,
          0.12,
          0.23,
          0.057,
          0.117,
          0.212,
          0.0621,
          0.0933,
          0.427,
          0.195,
          0.144,
          0.111,
          0.137,
          0.0771,
          0.12,
          0.109,
          0.177,
          0.419,
          0.404,
          0.169,
          0.294,
          0.0535,
          0.112,
          0.26,
          0.0512,
          0.0559,
          0.0896,
          0.0611,
          0.0771,
          0.281,
          0.0357,
          0.318,
          0.0509,
          0.0454,
          0.105,
          0.143,
          0.129,
          0.057,
          0.0818,
          0.133,
          0.0628,
          0.194,
          0.341,
          0.246,
          0.237,
          0.138,
          0.0611,
          0.189,
          0.514,
          0.0621,
          0.244,
          0.104,
          0.381,
          0.36,
          0.0787,
          0.185,
          0.113,
          0.137,
          0.263,
          0.374,
          0.0787,
          0.0718,
          0.0629,
          0.141,
          0.43,
          0.0527,
          0.111,
          0.0894,
          0.191,
          0.143,
          0.276,
          0.298,
          0.214,
          0.0426,
          0.178,
          0.0614,
          0.364,
          0.0412,
          0.0415,
          0.0436,
          0.0476,
          0.0719,
          0.168,
          0.0797,
          0.203,
          0.0424,
          0.0883,
          0.138,
          0.124,
          0.324,
          0.0441,
          0.137,
          0.127,
          0.0531,
          0.113,
          0.0475,
          0.238,
          0.2,
          0.0464,
          0.159,
          0.0523,
          0.0581,
          0.0703,
          0.053,
          0.1,
          0.297,
          0.096,
          0.0384,
          0.0478,
          0.193,
          0.103,
          0.145,
          0.0554,
          0.108,
          0.175,
          0.304,
          0.302,
          0.0895,
          0.0993,
          0.145,
          0.205,
          0.204,
          0.0461,
          0.0507,
          0.267,
          0.182,
          0.148,
          0.183,
          0.133,
          0.0723,
          0.0977,
          0.0549,
          0.302,
          0.0922,
          0.285,
          0.0738,
          0.28,
          0.0508,
          0.0747,
          0.0548,
          0.155,
          0.101,
          0.0628,
          0.1,
          0.0731,
          0.0452,
          0.06,
          0.24,
          0.124,
          0.285,
          0.236,
          0.27,
          0.0512,
          0.257,
          0.0899,
          0.0783,
          0.0609,
          0.264,
          0.176,
          0.083,
          0.0425,
          0.162,
          0.177,
          0.256,
          0.0479,
          0.263,
          0.0374,
          0.246,
          0.0489,
          0.122,
          0.0508,
          0.305,
          0.0477,
          0.301,
          0.235,
          0.264,
          0.0882,
          0.104,
          0.315,
          0.0341,
          0.301,
          0.0859,
          0.0784,
          0.0375,
          0.0696,
          0.0469,
          0.0629,
          0.0962,
          0.0439,
          0.0709,
          0.101,
          0.0913,
          0.0433,
          0.187,
          0.0798,
          0.0543,
          0.0831,
          0.0518,
          0.195,
          0.0704,
          0.0608,
          0.0622,
          0.0766,
          0.311,
          0.341,
          0.195,
          0.0951,
          0.139,
          0.0513,
          0.259,
          0.0437,
          0.0664,
          0.0876,
          0.127,
          0.194,
          0.0534,
          0.243,
          0.268,
          0.253,
          0.0725,
          0.0512,
          0.291,
          0.182,
          0.355,
          0.0734,
          0.064,
          0.0359,
          0.335,
          0.0872,
          0.138,
          0.232,
          0.217,
          0.226,
          0.162,
          0.158,
          0.0611,
          0.0548,
          0.0525,
          0.224,
          0.0536,
          0.0418,
          0.129,
          0.134,
          0.0921,
          0.395,
          0.0763,
          0.226,
          0.236,
          0.0476,
          0.152,
          0.0435,
          0.146,
          0.175,
          0.117,
          0.0912,
          0.248,
          0.0367,
          0.0502,
          0.198,
          0.21,
          0.103,
          0.129,
          0.25,
          0.0838,
          0.0716,
          0.346,
          0.0995,
          0.155,
          0.0725,
          0.227,
          0.117,
          0.0443,
          0.152,
          0.151,
          0.096,
          0.06,
          0.0763,
          0.0952,
          0.134,
          0.0584,
          0.102,
          0.334,
          0.0895,
          0.111,
          0.0922,
          0.127,
          0.103,
          0.271,
          0.169,
          0.0959,
          0.0413,
          0.158,
          0.211,
          0.267,
          0.101,
          0.0399,
          0.067,
          0.0988,
          0.114,
          0.273,
          0.0478,
          0.472,
          0.0847,
          0.0944,
          0.163,
          0.0681,
          0.134,
          0.287,
          0.0637,
          0.166,
          0.0472,
          0.204,
          0.202,
          0.0457,
          0.0424,
          0.437,
          0.123,
          0.113,
          0.0743,
          0.094,
          0.139,
          0.253,
          0.0629,
          0.123,
          0.115,
          0.087,
          0.194,
          0.174,
          0.0601,
          0.0516,
          0.0455,
          0.0642,
          0.0738,
          0.0524,
          0.054,
          0.0519,
          0.0618,
          0.132,
          0.067,
          0.133,
          0.102,
          0.21,
          0.0505,
          0.18,
          0.299,
          0.0554,
          0.0422,
          0.109,
          0.0543,
          0.345,
          0.0661,
          0.173,
          0.146,
          0.0802,
          0.0349,
          0.317,
          0.219,
          0.0692,
          0.252,
          0.0781,
          0.265,
          0.0837,
          0.253,
          0.134,
          0.0486,
          0.0849,
          0.0494,
          0.0999,
          0.138,
          0.229,
          0.0857,
          0.0756,
          0.353,
          0.0842,
          0.209,
          0.0853,
          0.13,
          0.254,
          0.0414,
          0.0725,
          0.358,
          0.157,
          0.0994,
          0.0705,
          0.101,
          0.0634,
          0.0785,
          0.0355,
          0.0778,
          0.0668,
          0.234,
          0.139
         ],
         "yaxis": "y"
        }
       ],
       "layout": {
        "legend": {
         "tracegroupgap": 0
        },
        "template": {
         "data": {
          "bar": [
           {
            "error_x": {
             "color": "#2a3f5f"
            },
            "error_y": {
             "color": "#2a3f5f"
            },
            "marker": {
             "line": {
              "color": "#E5ECF6",
              "width": 0.5
             },
             "pattern": {
              "fillmode": "overlay",
              "size": 10,
              "solidity": 0.2
             }
            },
            "type": "bar"
           }
          ],
          "barpolar": [
           {
            "marker": {
             "line": {
              "color": "#E5ECF6",
              "width": 0.5
             },
             "pattern": {
              "fillmode": "overlay",
              "size": 10,
              "solidity": 0.2
             }
            },
            "type": "barpolar"
           }
          ],
          "carpet": [
           {
            "aaxis": {
             "endlinecolor": "#2a3f5f",
             "gridcolor": "white",
             "linecolor": "white",
             "minorgridcolor": "white",
             "startlinecolor": "#2a3f5f"
            },
            "baxis": {
             "endlinecolor": "#2a3f5f",
             "gridcolor": "white",
             "linecolor": "white",
             "minorgridcolor": "white",
             "startlinecolor": "#2a3f5f"
            },
            "type": "carpet"
           }
          ],
          "choropleth": [
           {
            "colorbar": {
             "outlinewidth": 0,
             "ticks": ""
            },
            "type": "choropleth"
           }
          ],
          "contour": [
           {
            "colorbar": {
             "outlinewidth": 0,
             "ticks": ""
            },
            "colorscale": [
             [
              0,
              "#0d0887"
             ],
             [
              0.1111111111111111,
              "#46039f"
             ],
             [
              0.2222222222222222,
              "#7201a8"
             ],
             [
              0.3333333333333333,
              "#9c179e"
             ],
             [
              0.4444444444444444,
              "#bd3786"
             ],
             [
              0.5555555555555556,
              "#d8576b"
             ],
             [
              0.6666666666666666,
              "#ed7953"
             ],
             [
              0.7777777777777778,
              "#fb9f3a"
             ],
             [
              0.8888888888888888,
              "#fdca26"
             ],
             [
              1,
              "#f0f921"
             ]
            ],
            "type": "contour"
           }
          ],
          "contourcarpet": [
           {
            "colorbar": {
             "outlinewidth": 0,
             "ticks": ""
            },
            "type": "contourcarpet"
           }
          ],
          "heatmap": [
           {
            "colorbar": {
             "outlinewidth": 0,
             "ticks": ""
            },
            "colorscale": [
             [
              0,
              "#0d0887"
             ],
             [
              0.1111111111111111,
              "#46039f"
             ],
             [
              0.2222222222222222,
              "#7201a8"
             ],
             [
              0.3333333333333333,
              "#9c179e"
             ],
             [
              0.4444444444444444,
              "#bd3786"
             ],
             [
              0.5555555555555556,
              "#d8576b"
             ],
             [
              0.6666666666666666,
              "#ed7953"
             ],
             [
              0.7777777777777778,
              "#fb9f3a"
             ],
             [
              0.8888888888888888,
              "#fdca26"
             ],
             [
              1,
              "#f0f921"
             ]
            ],
            "type": "heatmap"
           }
          ],
          "heatmapgl": [
           {
            "colorbar": {
             "outlinewidth": 0,
             "ticks": ""
            },
            "colorscale": [
             [
              0,
              "#0d0887"
             ],
             [
              0.1111111111111111,
              "#46039f"
             ],
             [
              0.2222222222222222,
              "#7201a8"
             ],
             [
              0.3333333333333333,
              "#9c179e"
             ],
             [
              0.4444444444444444,
              "#bd3786"
             ],
             [
              0.5555555555555556,
              "#d8576b"
             ],
             [
              0.6666666666666666,
              "#ed7953"
             ],
             [
              0.7777777777777778,
              "#fb9f3a"
             ],
             [
              0.8888888888888888,
              "#fdca26"
             ],
             [
              1,
              "#f0f921"
             ]
            ],
            "type": "heatmapgl"
           }
          ],
          "histogram": [
           {
            "marker": {
             "pattern": {
              "fillmode": "overlay",
              "size": 10,
              "solidity": 0.2
             }
            },
            "type": "histogram"
           }
          ],
          "histogram2d": [
           {
            "colorbar": {
             "outlinewidth": 0,
             "ticks": ""
            },
            "colorscale": [
             [
              0,
              "#0d0887"
             ],
             [
              0.1111111111111111,
              "#46039f"
             ],
             [
              0.2222222222222222,
              "#7201a8"
             ],
             [
              0.3333333333333333,
              "#9c179e"
             ],
             [
              0.4444444444444444,
              "#bd3786"
             ],
             [
              0.5555555555555556,
              "#d8576b"
             ],
             [
              0.6666666666666666,
              "#ed7953"
             ],
             [
              0.7777777777777778,
              "#fb9f3a"
             ],
             [
              0.8888888888888888,
              "#fdca26"
             ],
             [
              1,
              "#f0f921"
             ]
            ],
            "type": "histogram2d"
           }
          ],
          "histogram2dcontour": [
           {
            "colorbar": {
             "outlinewidth": 0,
             "ticks": ""
            },
            "colorscale": [
             [
              0,
              "#0d0887"
             ],
             [
              0.1111111111111111,
              "#46039f"
             ],
             [
              0.2222222222222222,
              "#7201a8"
             ],
             [
              0.3333333333333333,
              "#9c179e"
             ],
             [
              0.4444444444444444,
              "#bd3786"
             ],
             [
              0.5555555555555556,
              "#d8576b"
             ],
             [
              0.6666666666666666,
              "#ed7953"
             ],
             [
              0.7777777777777778,
              "#fb9f3a"
             ],
             [
              0.8888888888888888,
              "#fdca26"
             ],
             [
              1,
              "#f0f921"
             ]
            ],
            "type": "histogram2dcontour"
           }
          ],
          "mesh3d": [
           {
            "colorbar": {
             "outlinewidth": 0,
             "ticks": ""
            },
            "type": "mesh3d"
           }
          ],
          "parcoords": [
           {
            "line": {
             "colorbar": {
              "outlinewidth": 0,
              "ticks": ""
             }
            },
            "type": "parcoords"
           }
          ],
          "pie": [
           {
            "automargin": true,
            "type": "pie"
           }
          ],
          "scatter": [
           {
            "fillpattern": {
             "fillmode": "overlay",
             "size": 10,
             "solidity": 0.2
            },
            "type": "scatter"
           }
          ],
          "scatter3d": [
           {
            "line": {
             "colorbar": {
              "outlinewidth": 0,
              "ticks": ""
             }
            },
            "marker": {
             "colorbar": {
              "outlinewidth": 0,
              "ticks": ""
             }
            },
            "type": "scatter3d"
           }
          ],
          "scattercarpet": [
           {
            "marker": {
             "colorbar": {
              "outlinewidth": 0,
              "ticks": ""
             }
            },
            "type": "scattercarpet"
           }
          ],
          "scattergeo": [
           {
            "marker": {
             "colorbar": {
              "outlinewidth": 0,
              "ticks": ""
             }
            },
            "type": "scattergeo"
           }
          ],
          "scattergl": [
           {
            "marker": {
             "colorbar": {
              "outlinewidth": 0,
              "ticks": ""
             }
            },
            "type": "scattergl"
           }
          ],
          "scattermapbox": [
           {
            "marker": {
             "colorbar": {
              "outlinewidth": 0,
              "ticks": ""
             }
            },
            "type": "scattermapbox"
           }
          ],
          "scatterpolar": [
           {
            "marker": {
             "colorbar": {
              "outlinewidth": 0,
              "ticks": ""
             }
            },
            "type": "scatterpolar"
           }
          ],
          "scatterpolargl": [
           {
            "marker": {
             "colorbar": {
              "outlinewidth": 0,
              "ticks": ""
             }
            },
            "type": "scatterpolargl"
           }
          ],
          "scatterternary": [
           {
            "marker": {
             "colorbar": {
              "outlinewidth": 0,
              "ticks": ""
             }
            },
            "type": "scatterternary"
           }
          ],
          "surface": [
           {
            "colorbar": {
             "outlinewidth": 0,
             "ticks": ""
            },
            "colorscale": [
             [
              0,
              "#0d0887"
             ],
             [
              0.1111111111111111,
              "#46039f"
             ],
             [
              0.2222222222222222,
              "#7201a8"
             ],
             [
              0.3333333333333333,
              "#9c179e"
             ],
             [
              0.4444444444444444,
              "#bd3786"
             ],
             [
              0.5555555555555556,
              "#d8576b"
             ],
             [
              0.6666666666666666,
              "#ed7953"
             ],
             [
              0.7777777777777778,
              "#fb9f3a"
             ],
             [
              0.8888888888888888,
              "#fdca26"
             ],
             [
              1,
              "#f0f921"
             ]
            ],
            "type": "surface"
           }
          ],
          "table": [
           {
            "cells": {
             "fill": {
              "color": "#EBF0F8"
             },
             "line": {
              "color": "white"
             }
            },
            "header": {
             "fill": {
              "color": "#C8D4E3"
             },
             "line": {
              "color": "white"
             }
            },
            "type": "table"
           }
          ]
         },
         "layout": {
          "annotationdefaults": {
           "arrowcolor": "#2a3f5f",
           "arrowhead": 0,
           "arrowwidth": 1
          },
          "autotypenumbers": "strict",
          "coloraxis": {
           "colorbar": {
            "outlinewidth": 0,
            "ticks": ""
           }
          },
          "colorscale": {
           "diverging": [
            [
             0,
             "#8e0152"
            ],
            [
             0.1,
             "#c51b7d"
            ],
            [
             0.2,
             "#de77ae"
            ],
            [
             0.3,
             "#f1b6da"
            ],
            [
             0.4,
             "#fde0ef"
            ],
            [
             0.5,
             "#f7f7f7"
            ],
            [
             0.6,
             "#e6f5d0"
            ],
            [
             0.7,
             "#b8e186"
            ],
            [
             0.8,
             "#7fbc41"
            ],
            [
             0.9,
             "#4d9221"
            ],
            [
             1,
             "#276419"
            ]
           ],
           "sequential": [
            [
             0,
             "#0d0887"
            ],
            [
             0.1111111111111111,
             "#46039f"
            ],
            [
             0.2222222222222222,
             "#7201a8"
            ],
            [
             0.3333333333333333,
             "#9c179e"
            ],
            [
             0.4444444444444444,
             "#bd3786"
            ],
            [
             0.5555555555555556,
             "#d8576b"
            ],
            [
             0.6666666666666666,
             "#ed7953"
            ],
            [
             0.7777777777777778,
             "#fb9f3a"
            ],
            [
             0.8888888888888888,
             "#fdca26"
            ],
            [
             1,
             "#f0f921"
            ]
           ],
           "sequentialminus": [
            [
             0,
             "#0d0887"
            ],
            [
             0.1111111111111111,
             "#46039f"
            ],
            [
             0.2222222222222222,
             "#7201a8"
            ],
            [
             0.3333333333333333,
             "#9c179e"
            ],
            [
             0.4444444444444444,
             "#bd3786"
            ],
            [
             0.5555555555555556,
             "#d8576b"
            ],
            [
             0.6666666666666666,
             "#ed7953"
            ],
            [
             0.7777777777777778,
             "#fb9f3a"
            ],
            [
             0.8888888888888888,
             "#fdca26"
            ],
            [
             1,
             "#f0f921"
            ]
           ]
          },
          "colorway": [
           "#636efa",
           "#EF553B",
           "#00cc96",
           "#ab63fa",
           "#FFA15A",
           "#19d3f3",
           "#FF6692",
           "#B6E880",
           "#FF97FF",
           "#FECB52"
          ],
          "font": {
           "color": "#2a3f5f"
          },
          "geo": {
           "bgcolor": "white",
           "lakecolor": "white",
           "landcolor": "#E5ECF6",
           "showlakes": true,
           "showland": true,
           "subunitcolor": "white"
          },
          "hoverlabel": {
           "align": "left"
          },
          "hovermode": "closest",
          "mapbox": {
           "style": "light"
          },
          "paper_bgcolor": "white",
          "plot_bgcolor": "#E5ECF6",
          "polar": {
           "angularaxis": {
            "gridcolor": "white",
            "linecolor": "white",
            "ticks": ""
           },
           "bgcolor": "#E5ECF6",
           "radialaxis": {
            "gridcolor": "white",
            "linecolor": "white",
            "ticks": ""
           }
          },
          "scene": {
           "xaxis": {
            "backgroundcolor": "#E5ECF6",
            "gridcolor": "white",
            "gridwidth": 2,
            "linecolor": "white",
            "showbackground": true,
            "ticks": "",
            "zerolinecolor": "white"
           },
           "yaxis": {
            "backgroundcolor": "#E5ECF6",
            "gridcolor": "white",
            "gridwidth": 2,
            "linecolor": "white",
            "showbackground": true,
            "ticks": "",
            "zerolinecolor": "white"
           },
           "zaxis": {
            "backgroundcolor": "#E5ECF6",
            "gridcolor": "white",
            "gridwidth": 2,
            "linecolor": "white",
            "showbackground": true,
            "ticks": "",
            "zerolinecolor": "white"
           }
          },
          "shapedefaults": {
           "line": {
            "color": "#2a3f5f"
           }
          },
          "ternary": {
           "aaxis": {
            "gridcolor": "white",
            "linecolor": "white",
            "ticks": ""
           },
           "baxis": {
            "gridcolor": "white",
            "linecolor": "white",
            "ticks": ""
           },
           "bgcolor": "#E5ECF6",
           "caxis": {
            "gridcolor": "white",
            "linecolor": "white",
            "ticks": ""
           }
          },
          "title": {
           "x": 0.05
          },
          "xaxis": {
           "automargin": true,
           "gridcolor": "white",
           "linecolor": "white",
           "ticks": "",
           "title": {
            "standoff": 15
           },
           "zerolinecolor": "white",
           "zerolinewidth": 2
          },
          "yaxis": {
           "automargin": true,
           "gridcolor": "white",
           "linecolor": "white",
           "ticks": "",
           "title": {
            "standoff": 15
           },
           "zerolinecolor": "white",
           "zerolinewidth": 2
          }
         }
        },
        "title": {
         "text": "Scatter Plot: Acousticness vs Speechiness"
        },
        "xaxis": {
         "anchor": "y",
         "domain": [
          0,
          1
         ],
         "title": {
          "text": "Acousticness"
         }
        },
        "yaxis": {
         "anchor": "x",
         "domain": [
          0,
          1
         ],
         "title": {
          "text": "Speechiness"
         }
        }
       }
      }
     },
     "metadata": {},
     "output_type": "display_data"
    }
   ],
   "source": [
    "fig = px.scatter(df, x='acousticness', y='speechiness', title='Scatter Plot: Acousticness vs Speechiness')\n",
    "fig.update_xaxes(title='Acousticness')\n",
    "fig.update_yaxes(title='Speechiness')\n",
    "fig.show()"
   ]
  },
  {
   "attachments": {
    "image.png": {
     "image/png": "[encoded data removed]"
    }
   },
   "cell_type": "markdown",
   "metadata": {},
   "source": [
    "![image.png](attachment:image.png)\n",
    "\n",
    "Este gráfico de dispersión muestra la relación entre la acústica y la cantidad de discurso (speechiness) de las canciones\n",
    "Al igual que con Seaborn, cada punto en el gráfico representa una canción, y su posición en los ejes x e y indica el nivel de acústica y la cantidad de discurso respectivamente.\n",
    "\n",
    "Para poder ineractuar con el grafico al ejecutarlo y pasar el cursor por encima cada punto del grafico mostrara la informacion de acustica y la cantidad de discurso de cada canción."
   ]
  },
  {
   "cell_type": "markdown",
   "metadata": {},
   "source": [
    "Cual sea la elección de la librería de visualización depende de las necesidades específicas y preferencias personales. Matplotlib proporciona control y flexibilidad, Seaborn simplifica la creación de gráficos estadísticos y estéticos en su diseño y Plotly ofrece interactividad y dinamismo en cada uno de sus representaciones. Se pueden combinar estas librerías según sea necesario, esto permitirá crear visualizaciones efectivas para una amplia variedad de escenarios de análisis estadísticos."
   ]
  }
 ],
 "metadata": {
  "kernelspec": {
   "display_name": "base",
   "language": "python",
   "name": "python3"
  },
  "language_info": {
   "codemirror_mode": {
    "name": "ipython",
    "version": 3
   },
   "file_extension": ".py",
   "mimetype": "text/x-python",
   "name": "python",
   "nbconvert_exporter": "python",
   "pygments_lexer": "ipython3",
   "version": "3.11.5"
  }
 },
 "nbformat": 4,
 "nbformat_minor": 2
}
